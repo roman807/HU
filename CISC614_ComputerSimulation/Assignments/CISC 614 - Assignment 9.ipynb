{
 "cells": [
  {
   "cell_type": "markdown",
   "metadata": {},
   "source": [
    "## CISC 614 - Assignment 9\n",
    "#### Inventory simulation\n",
    "#### Roman Moser 187700"
   ]
  },
  {
   "cell_type": "markdown",
   "metadata": {},
   "source": [
    "#### INTRODUCTION\n",
    "The following report shows an inventory simulation for the case of a business that sells firewood to the general public. The business wants to minimize costs, which occur for each delivery (the more frequent the more expensive) and for the storage (the more is stored the more expensive) while ensuring that there is always some firewood in the inventory. This report shows the implementation of such a simulation with a given distribution of orders and evaluates the average costs and days with no inventory occurred with a varying frequency of deliveries."
   ]
  },
  {
   "cell_type": "code",
   "execution_count": 1,
   "metadata": {},
   "outputs": [],
   "source": [
    "import numpy as np\n",
    "import matplotlib.pyplot as plt\n",
    "import random"
   ]
  },
  {
   "cell_type": "markdown",
   "metadata": {},
   "source": [
    "#### METHODS\n",
    "#### 1. Manual calculations vs simulation results\n",
    "Assume the following parameters:\n",
    " - Q = 10 Delivery quantity (US tons of birch firewood))\n",
    " - T = 2 Time between deliveries (days))\n",
    " - N = 4 (Length of simulation (days))\n",
    " - d = 20.0 (Delivery cost (USD dollars per delivery))\n",
    " - s = 1.0 (Storage cost (USD per cord of firewood per day))\n",
    " - daily demand = 1\n",
    "\n",
    "#### Day 1:\n",
    " - first delivery: 10 tons\n",
    " - demand: 1 --> inventory: 10 - 1 = 9\n",
    " - delivery costs: 20\n",
    " - storage costs: 9 * 1 = 9\n",
    " - total costs = 20 + 9 = 29\n",
    " - total running costs: 0 + 29 = 29\n",
    "\n",
    "#### Day 2:\n",
    " - no delivery\n",
    " - demand: 1 --> inventory: 9 - 1 = 8\n",
    " - delivery costs: 0\n",
    " - storage costs: 8 * 1 = 8\n",
    " - total costs = 0 + 8 = 8\n",
    " - total running costs: 29 + 8 = 37\n",
    " \n",
    "#### Day 3:\n",
    " - second delivery: 10 tons\n",
    " - demand: 1 --> inventory: 18 - 1 = 17\n",
    " - delivery costs: 20\n",
    " - storage costs: 17 * 1 = 17\n",
    " - total costs = 20 + 17 = 37\n",
    " - total running costs: 37 + 37 = 74\n",
    " \n",
    "#### Day 4:\n",
    " - no delivery\n",
    " - demand: 1 --> inventory: 17 - 1 = 16\n",
    " - delivery costs: 0\n",
    " - storage costs: 16 * 1 = 16\n",
    " - total costs = 0 + 16 = 16\n",
    " - total running costs: 74 + 16 = 90\n",
    " \n",
    " This leads to total running costs of 90 and thus average daily costs of 90 / 4 = **22.5**\n",
    " \n",
    " Now we create the simulation and run it with the same parameters:"
   ]
  },
  {
   "cell_type": "code",
   "execution_count": 2,
   "metadata": {},
   "outputs": [],
   "source": [
    "class Simulation:\n",
    "    def __init__(self, Q, T, N, d, s):\n",
    "        self.Q = Q\n",
    "        self.T = T\n",
    "        self.d = d\n",
    "        self.s = s\n",
    "        self.remaining_days = N\n",
    "        self.days_passed = 0\n",
    "        self.current_inventory = 0\n",
    "        self.total_running_costs = 0\n",
    "        self.demand_stock = 0\n",
    "        self.zero_inv_days = 0\n",
    "        \n",
    "    def one_step(self):\n",
    "        delivery = 0\n",
    "        if self.days_passed % T == 0:\n",
    "            delivery = 1\n",
    "            self.current_inventory += self.Q\n",
    "        self.current_inventory -= demand(self.demand_stock)\n",
    "        if self.current_inventory < 0:\n",
    "            self.zero_inv_days += 1\n",
    "            self.demand_stock = -self.current_inventory\n",
    "            self.current_inventory = 0\n",
    "        else:\n",
    "            self.demand_stock = 0\n",
    "        self.days_passed += 1\n",
    "        self.remaining_days -= 1\n",
    "        self.total_running_costs += s * self.current_inventory + delivery * self.d\n",
    "    \n",
    "    def run_simulation(self):\n",
    "        while self.remaining_days > 0:\n",
    "            self.one_step()\n",
    "        return self.total_running_costs / N, self.zero_inv_days"
   ]
  },
  {
   "cell_type": "code",
   "execution_count": 3,
   "metadata": {},
   "outputs": [
    {
     "name": "stdout",
     "output_type": "stream",
     "text": [
      "daily average costs simulation: 22.5\n"
     ]
    }
   ],
   "source": [
    "def demand(demand_stock):\n",
    "    return 1 + demand_stock\n",
    "Q = 10\n",
    "T = 2\n",
    "N = 4\n",
    "d = 20.0\n",
    "s = 1.0\n",
    "sim = Simulation(Q, T, N, d, s)\n",
    "daily_avg, _ = sim.run_simulation()\n",
    "print(f'daily average costs simulation: {daily_avg}')"
   ]
  },
  {
   "cell_type": "markdown",
   "metadata": {},
   "source": [
    "As the simulation returns the same daily average costs we verified that simulation's implementation is correct."
   ]
  },
  {
   "cell_type": "markdown",
   "metadata": {},
   "source": [
    "### 2. Generation of historical daily demand rates\n",
    "\n",
    "The table below shows the distribution of how often (on how many days) specific numbers of cords have been demanded.\n",
    "\n",
    "#n cords demanded |  #n occurrences |\n",
    "\n",
    "+---------------------+----------------------+\n",
    "\n",
    "|          1-2        |         228         |\n",
    "\n",
    "|          3-4        |         206         |\n",
    "\n",
    "|          5-6        |          92         |\n",
    "\n",
    "|          7-8        |          80         |\n",
    "\n",
    "|         9-10        |          83         |\n",
    "\n",
    "|        11-12        |          17         |\n",
    "\n",
    "|        13-14        |          13         |\n",
    "\n",
    "|        15-16        |          11         |\n",
    "\n",
    "In the following, we implement a function that generated the same distribution with the help of a random number generator:"
   ]
  },
  {
   "cell_type": "code",
   "execution_count": 4,
   "metadata": {},
   "outputs": [],
   "source": [
    "def demand(demand_stock=0):\n",
    "    \"\"\"\n",
    "    generate a random number of number of cords demanded based on\n",
    "    the given distribution\n",
    "    \"\"\"\n",
    "    occur = [228, 206, 92, 80, 83, 17, 13, 11]\n",
    "    occur_cum = [sum(occur[:i]) for i in range(1, len(occur))] + [sum(occur)]\n",
    "    rnd = np.random.uniform() * sum(occur)\n",
    "    if rnd < occur_cum[0]:\n",
    "        return random.choice([1, 2]) + demand_stock\n",
    "    elif rnd < occur_cum[1]:\n",
    "        return random.choice([3, 4]) + demand_stock\n",
    "    elif rnd < occur_cum[2]:\n",
    "        return random.choice([5, 6]) + demand_stock\n",
    "    elif rnd < occur_cum[3]:\n",
    "        return random.choice([7, 8]) + demand_stock\n",
    "    elif rnd < occur_cum[4]:\n",
    "        return random.choice([9, 10]) + demand_stock\n",
    "    elif rnd < occur_cum[5]:\n",
    "        return random.choice([11, 12]) + demand_stock\n",
    "    elif rnd < occur_cum[6]:\n",
    "        return random.choice([13, 14]) + demand_stock\n",
    "    else:\n",
    "        return random.choice([15, 16]) + demand_stock"
   ]
  },
  {
   "cell_type": "code",
   "execution_count": 6,
   "metadata": {},
   "outputs": [],
   "source": [
    "n = 10_000\n",
    "n_cords = []\n",
    "for i in range(n):\n",
    "    n_cords.append(demand())"
   ]
  },
  {
   "cell_type": "code",
   "execution_count": 7,
   "metadata": {},
   "outputs": [
    {
     "data": {
      "image/png": "[encoded data removed]",
      "text/plain": [
       "<Figure size 864x288 with 2 Axes>"
      ]
     },
     "metadata": {
      "needs_background": "light"
     },
     "output_type": "display_data"
    }
   ],
   "source": [
    "# show plots of distributions:\n",
    "occur = [228, 206, 92, 80, 83, 17, 13, 11]\n",
    "occur_label = ['1-2', '3-4', '5-6', '7-8', '9-10', '11-12', '13-14', '15-16']\n",
    "plt.figure(figsize=(12, 4))\n",
    "plt.subplot(1, 2, 1)\n",
    "plt.bar(occur_label, occur)\n",
    "plt.title('actual distribution')\n",
    "plt.subplot(1, 2, 2)\n",
    "plt.hist(n_cords, bins=8, rwidth=0.8)\n",
    "plt.title(f'simulated distribution with N={n}')\n",
    "plt.show()"
   ]
  },
  {
   "cell_type": "markdown",
   "metadata": {},
   "source": [
    "As the plots above show, the simulated distribution (generated 10,000 numbers) is very similar to the original distribution."
   ]
  },
  {
   "cell_type": "markdown",
   "metadata": {},
   "source": [
    "### 3. Integration\n",
    "\n",
    "Now we combine the distribution from the second section with the simulation model from the first section. We are first running the simulation 10,000 times with the parameters given in the assignment task and are then testing a variety of different parameters for the time intervall T. (Note that the testing of the simulation with a variety of parameters to  is not included in this report to avoid a lengthy report with lots of duplicate code).\n",
    "\n",
    "- Q = 150      # Delivery quantity (US tons of birch firewood)\n",
    "- T = 15       # Time between deliveries (days)\n",
    "- N = 365      # Length of simulation (days)\n",
    "- d = 500.00   # Delivery cost (USD dollars per delivery)\n",
    "- s = 1.50     # Storage cost (USD per cord of firewood per day)\n",
    "\n",
    "\n",
    "- Assumption: a cord of birch firewood weighs 4,000 pounds\n",
    "- One pound = 0.4536kg --> Q = (150,000 / 0.4536) / 4000 = 82.67196 cords --> round to 83 cords"
   ]
  },
  {
   "cell_type": "code",
   "execution_count": 8,
   "metadata": {
    "scrolled": false
   },
   "outputs": [],
   "source": [
    "Q = 83\n",
    "T = 15\n",
    "N = 365\n",
    "d = 500.0\n",
    "s = 1.50\n",
    "n_simulations = 10_000\n",
    "daily_avg, n_zeros_days = [], []\n",
    "for i in range(n_simulations):\n",
    "    sim = Simulation(Q, T, N, d, s)\n",
    "    d_avg, nzd = sim.run_simulation()\n",
    "    daily_avg.append(d_avg)\n",
    "    n_zeros_days.append(nzd)"
   ]
  },
  {
   "cell_type": "code",
   "execution_count": 9,
   "metadata": {},
   "outputs": [
    {
     "data": {
      "image/png": "[encoded data removed]",
      "text/plain": [
       "<Figure size 432x288 with 1 Axes>"
      ]
     },
     "metadata": {
      "needs_background": "light"
     },
     "output_type": "display_data"
    }
   ],
   "source": [
    "# Plot distribution of average daily costs:\n",
    "plt.hist(daily_avg, bins=20)\n",
    "plt.title(f'average daily costs, number of zero inv days={np.round(np.mean(n_zeros_days))}')\n",
    "plt.xlabel('average daily costs')\n",
    "plt.ylabel('number of days')\n",
    "plt.show()"
   ]
  },
  {
   "cell_type": "markdown",
   "metadata": {},
   "source": [
    "#### Find T that minimzes the costs (while having zero days of zero inventory)\n",
    "Now we are running the simulation again with the same parameters, but a varying value for T (the time difference between deliveries). The goal is to find the T that minimizes the daily average costs while having zero days of no inventory. For each T, we are running 100 simulations and compute the average daily costs and the average number of zero inventory days. Note that the average number of zero inventory days is rounded to the nearest integer, meaning that if the average is less than 0.5 days, we consider that there are no days with zero inventory. Since the 10,000 simulations above showed that with T=15 days, we have on average 1 day with 0 inventory, we start the range of T's at a significantly lower number."
   ]
  },
  {
   "cell_type": "code",
   "execution_count": 10,
   "metadata": {},
   "outputs": [
    {
     "name": "stdout",
     "output_type": "stream",
     "text": [
      "costs with T=5: 3390.0,     number of days with zero inventory: 0.0\n",
      "costs with T=6: 2608.0,     number of days with zero inventory: 0.0\n",
      "costs with T=7: 2068.0,     number of days with zero inventory: 0.0\n",
      "costs with T=8: 1643.0,     number of days with zero inventory: 0.0\n",
      "costs with T=9: 1328.0,     number of days with zero inventory: 0.0\n",
      "costs with T=10: 1069.0,     number of days with zero inventory: 0.0\n",
      "costs with T=11: 856.0,     number of days with zero inventory: 0.0\n",
      "costs with T=12: 681.0,     number of days with zero inventory: 0.0\n",
      "costs with T=13: 526.0,     number of days with zero inventory: 0.0\n",
      "costs with T=14: 407.0,     number of days with zero inventory: 0.0\n",
      "costs with T=15: 302.0,     number of days with zero inventory: 2.0\n",
      "costs with T=16: 209.0,     number of days with zero inventory: 5.0\n",
      "costs with T=17: 115.0,     number of days with zero inventory: 52.0\n",
      "costs with T=18: 69.0,     number of days with zero inventory: 152.0\n",
      "costs with T=19: 46.0,     number of days with zero inventory: 237.0\n",
      "costs with T=20: 35.0,     number of days with zero inventory: 297.0\n"
     ]
    }
   ],
   "source": [
    "n_simulations = 100\n",
    "T_ = [5, 6, 7, 8, 9, 10, 11, 12, 13, 14, 15, 16, 17, 18, 19, 20]\n",
    "daily_avg_, n_zero_days_ = [], []\n",
    "for T in T_:\n",
    "    daily_avg, n_zero_days = [], []\n",
    "    for i in range(n_simulations):\n",
    "        sim = Simulation(Q, T, N, d, s)\n",
    "        d_avg, nzd = sim.run_simulation()\n",
    "        daily_avg.append(d_avg)\n",
    "        n_zero_days.append(nzd)\n",
    "    daily_avg_.append(np.mean(daily_avg))\n",
    "    n_zero_days_.append(np.mean(n_zero_days))\n",
    "    print(f'costs with T={T}: {np.round(np.mean(daily_avg))}, \\\n",
    "    number of days with zero inventory: {np.round(np.mean(n_zero_days))}')"
   ]
  },
  {
   "cell_type": "code",
   "execution_count": 11,
   "metadata": {},
   "outputs": [
    {
     "data": {
      "image/png": "[encoded data removed]",
      "text/plain": [
       "<Figure size 432x288 with 1 Axes>"
      ]
     },
     "metadata": {
      "needs_background": "light"
     },
     "output_type": "display_data"
    }
   ],
   "source": [
    "plt.plot(T_, daily_avg_)\n",
    "plt.plot(T_, n_zero_days_, color='red')\n",
    "plt.title(\"Daily average costs with different T's\")\n",
    "plt.legend(['daily average costs', 'number of zero inv days'])\n",
    "plt.xlabel('T')\n",
    "plt.ylabel('daily costs')\n",
    "plt.show()"
   ]
  },
  {
   "cell_type": "markdown",
   "metadata": {},
   "source": [
    "#### CONCLUSION\n",
    "The plot above shows that the daily average costs increase exponentially as the time between deliveries decreases. We obtain the minimum daily average costs with T=14 of 407. With a T of 15 or higher, the costs further decrease, however, the number of days with an inventory of zero becomes greater than 0. A suggestion to imporove the simulation and the analysis of the results would be to introduce an additional cost as punishment for an inventory of zero. This would make sense because, in reality there is a slight chance of some days with 0 inventory (as long as T is not very small in which case unnecessary high costs occur). With a costs for zero inventory days we would be able to find the ideal T for more aggressive (if costs of zero inventory low) and more conservative (if costs of zero inventory high) strategies."
   ]
  }
 ],
 "metadata": {
  "kernelspec": {
   "display_name": "Python 3",
   "language": "python",
   "name": "python3"
  },
  "language_info": {
   "codemirror_mode": {
    "name": "ipython",
    "version": 3
   },
   "file_extension": ".py",
   "mimetype": "text/x-python",
   "name": "python",
   "nbconvert_exporter": "python",
   "pygments_lexer": "ipython3",
   "version": "3.7.4"
  }
 },
 "nbformat": 4,
 "nbformat_minor": 2
}
