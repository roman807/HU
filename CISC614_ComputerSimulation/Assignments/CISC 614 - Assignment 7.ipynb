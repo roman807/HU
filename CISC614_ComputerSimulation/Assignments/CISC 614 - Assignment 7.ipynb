{
 "cells": [
  {
   "cell_type": "markdown",
   "metadata": {},
   "source": [
    "## CISC 614 - Assignment 6\n",
    "#### Approximate data with higher order polynomials\n",
    "#### Roman Moser 187700"
   ]
  },
  {
   "cell_type": "markdown",
   "metadata": {},
   "source": [
    "#### INTRODUCTION\n",
    "The goal of this assignment is it to find a function that approximates the relationship between hydraulic conductivity and aquifer resistivity. The problem is described in more detail in a study by Vogelgesang, J. A., Holt, N., Schilling, K. E., Gannon, M., & Tassier-Surine, S. (2019). One reason to approximate data with a function is that it might be very costly to obtain additional measurement samples whereas estimations with a model based on a good dataset come for free. In this assignment we use different order polynomials to approximate the data and elaborate on the reasoning behind the choices and methods used. The data set used is shown in the table below:\n",
    "\n",
    "Resistivity (ohm-m) | Conductivity (m/day) |\n",
    "\n",
    "+---------------------+----------------------+\n",
    "\n",
    "|         11.3        |         52.7         |\n",
    "\n",
    "|         49.5        |         28.8         |\n",
    "\n",
    "|         88.0        |         57.2         |\n",
    "\n",
    "|        193.1        |        108.9         |\n",
    "\n",
    "|        247.6        |         40.0         |\n",
    "\n",
    "|        603.4        |        197.0         |\n",
    "\n",
    "|        792.0        |        239.1         |\n",
    "\n",
    "|        908.3        |        194.7         |"
   ]
  },
  {
   "cell_type": "code",
   "execution_count": 1,
   "metadata": {},
   "outputs": [],
   "source": [
    "import pandas as pd\n",
    "import numpy as np\n",
    "import matplotlib.pyplot as plt\n",
    "from scipy import interpolate"
   ]
  },
  {
   "cell_type": "code",
   "execution_count": 2,
   "metadata": {},
   "outputs": [],
   "source": [
    "data = pd.DataFrame([[11.3, 52.7], [49.5, 28.8], [88.0, 57.2], [193.1, 108.9], [247.6, 40.0],\n",
    "                    [603.4, 197.0], [792.0, 239.1], [908.3, 194.7]], columns=['res', 'cond'])"
   ]
  },
  {
   "cell_type": "code",
   "execution_count": 3,
   "metadata": {},
   "outputs": [],
   "source": [
    "def polynomial(x, coeffs):\n",
    "    \"\"\"\n",
    "    Function that calculated the corresponding point y as f(x) for\n",
    "    a polynomial f with the coefficients \"coeff\"\n",
    "    \"\"\"\n",
    "    y = 0\n",
    "    for i, coeff in enumerate(coeffs[::-1]):\n",
    "        y += coeff * x**i\n",
    "    return y"
   ]
  },
  {
   "cell_type": "markdown",
   "metadata": {},
   "source": [
    "### Submodel #1 - Interpolating Polynomial\n",
    "\n",
    "To find the one unique polynomial that is guaranteed to pass through all data points, I am making use of the **scipy.interpolate** package and the **lagrange** method. I then create an array for the independent variable *resistivity* (x) of 1000 evenly spaced points between 0 and 950 and calculate the corresponding *conductivity* (y) according to the unique polynomial."
   ]
  },
  {
   "cell_type": "code",
   "execution_count": 4,
   "metadata": {},
   "outputs": [
    {
     "data": {
      "image/png": "[encoded data removed]",
      "text/plain": [
       "<Figure size 432x288 with 1 Axes>"
      ]
     },
     "metadata": {
      "needs_background": "light"
     },
     "output_type": "display_data"
    }
   ],
   "source": [
    "f = interpolate.lagrange(data.res, data.cond)\n",
    "x_ = np.linspace(0, 950, 1000)\n",
    "y_ = []\n",
    "for x in x_:\n",
    "    y_.append(polynomial(x, f.coeffs))\n",
    "    \n",
    "plt.plot(x_, y_, color='orange')\n",
    "plt.scatter(data.res, data.cond)\n",
    "plt.legend(['unique polynomial', 'measured points'])\n",
    "plt.title('unique polynomial')\n",
    "plt.xlabel('resistivity')\n",
    "plt.ylabel('conductivity')\n",
    "plt.show()"
   ]
  },
  {
   "cell_type": "markdown",
   "metadata": {},
   "source": [
    "As shown in the plot above, we achieved the goal of finding a polynomial (the only one of order n-1) that passes each measured data point. However, we seem to be significantly overfitting the data as the polynomial includes up and down swings (especially between the last four data points) that are not to be expected when observing the data. Additionally, the polynomial suggests that conductivity approaches infinity quickly after it passes through the last data point."
   ]
  },
  {
   "cell_type": "markdown",
   "metadata": {},
   "source": [
    "### Submodel #2 - Low-order best-fit polynomial\n",
    "Next, we try to find a lower order polynomial that best approximates the data. To achieve this we first use the divided difference method to find the order of the polynomial and then use least squares regression (with the *numpy.polyfit* package) to approximate the data."
   ]
  },
  {
   "cell_type": "code",
   "execution_count": 5,
   "metadata": {},
   "outputs": [
    {
     "name": "stdout",
     "output_type": "stream",
     "text": [
      "divided differences 1: [-0.62565  0.73766  0.49191 -1.26422  0.44126  0.22322 -0.38177]\n",
      "divided differences 2: [ 0.03555 -0.00342 -0.02201  0.00831 -0.0008  -0.00397]\n",
      "divided differences 3: [-7.1e-04 -2.5e-04  2.1e-04 -4.0e-05 -1.0e-05]\n"
     ]
    }
   ],
   "source": [
    "def divided_differences(x, y, n_derivatives=3):\n",
    "    def new_x(x):\n",
    "        return [(x[i-1] + x[i]) / 2 for i in range(1, len(x))]\n",
    "    divided_diffs = []\n",
    "    for i in range(n_derivatives):\n",
    "        x_diff = np.array([x[i] - x[i-1] for i in range(1, len(x))])\n",
    "        y_diff = np.array([y[i] - y[i-1] for i in range(1, len(y))])\n",
    "        y = np.round(y_diff / x_diff, 5)\n",
    "        divided_diffs.append(y)\n",
    "        x = new_x(x)\n",
    "    return divided_diffs\n",
    "\n",
    "divided_diffs = divided_differences(data.res, data.cond, n_derivatives=3)\n",
    "for i, diffs in enumerate(divided_diffs):\n",
    "    print('divided differences {}: {}'.format(i+1, diffs))"
   ]
  },
  {
   "cell_type": "code",
   "execution_count": 6,
   "metadata": {},
   "outputs": [
    {
     "name": "stdout",
     "output_type": "stream",
     "text": [
      "Divided difference for 1st, 2nd and 3rd derivative:\n"
     ]
    },
    {
     "data": {
      "text/html": [
       "<div>\n",
       "<style scoped>\n",
       "    .dataframe tbody tr th:only-of-type {\n",
       "        vertical-align: middle;\n",
       "    }\n",
       "\n",
       "    .dataframe tbody tr th {\n",
       "        vertical-align: top;\n",
       "    }\n",
       "\n",
       "    .dataframe thead th {\n",
       "        text-align: right;\n",
       "    }\n",
       "</style>\n",
       "<table border=\"1\" class=\"dataframe\">\n",
       "  <thead>\n",
       "    <tr style=\"text-align: right;\">\n",
       "      <th></th>\n",
       "      <th>delta 1</th>\n",
       "      <th>delta 2</th>\n",
       "      <th>delta 3</th>\n",
       "    </tr>\n",
       "  </thead>\n",
       "  <tbody>\n",
       "    <tr>\n",
       "      <td></td>\n",
       "      <td>-0.62565</td>\n",
       "      <td></td>\n",
       "      <td></td>\n",
       "    </tr>\n",
       "    <tr>\n",
       "      <td></td>\n",
       "      <td></td>\n",
       "      <td>0.03555</td>\n",
       "      <td></td>\n",
       "    </tr>\n",
       "    <tr>\n",
       "      <td></td>\n",
       "      <td>0.73766</td>\n",
       "      <td></td>\n",
       "      <td>-7.1e-04</td>\n",
       "    </tr>\n",
       "    <tr>\n",
       "      <td></td>\n",
       "      <td></td>\n",
       "      <td>-0.00342</td>\n",
       "      <td></td>\n",
       "    </tr>\n",
       "    <tr>\n",
       "      <td></td>\n",
       "      <td>0.49191</td>\n",
       "      <td></td>\n",
       "      <td>-2.5e-04</td>\n",
       "    </tr>\n",
       "    <tr>\n",
       "      <td></td>\n",
       "      <td></td>\n",
       "      <td>-0.02201</td>\n",
       "      <td></td>\n",
       "    </tr>\n",
       "    <tr>\n",
       "      <td></td>\n",
       "      <td>-1.26422</td>\n",
       "      <td></td>\n",
       "      <td>2.1e-04</td>\n",
       "    </tr>\n",
       "    <tr>\n",
       "      <td></td>\n",
       "      <td></td>\n",
       "      <td>0.00831</td>\n",
       "      <td></td>\n",
       "    </tr>\n",
       "    <tr>\n",
       "      <td></td>\n",
       "      <td>0.44126</td>\n",
       "      <td></td>\n",
       "      <td>-4.0e-05</td>\n",
       "    </tr>\n",
       "    <tr>\n",
       "      <td></td>\n",
       "      <td></td>\n",
       "      <td>-0.0008</td>\n",
       "      <td></td>\n",
       "    </tr>\n",
       "    <tr>\n",
       "      <td></td>\n",
       "      <td>0.22322</td>\n",
       "      <td></td>\n",
       "      <td>-1.0e-05</td>\n",
       "    </tr>\n",
       "    <tr>\n",
       "      <td></td>\n",
       "      <td></td>\n",
       "      <td>-0.00397</td>\n",
       "      <td></td>\n",
       "    </tr>\n",
       "    <tr>\n",
       "      <td></td>\n",
       "      <td>-0.38177</td>\n",
       "      <td></td>\n",
       "      <td></td>\n",
       "    </tr>\n",
       "  </tbody>\n",
       "</table>\n",
       "</div>"
      ],
      "text/plain": [
       "   delta 1   delta 2   delta 3\n",
       "  -0.62565                    \n",
       "             0.03555          \n",
       "   0.73766            -7.1e-04\n",
       "            -0.00342          \n",
       "   0.49191            -2.5e-04\n",
       "            -0.02201          \n",
       "  -1.26422             2.1e-04\n",
       "             0.00831          \n",
       "   0.44126            -4.0e-05\n",
       "             -0.0008          \n",
       "   0.22322            -1.0e-05\n",
       "            -0.00397          \n",
       "  -0.38177                    "
      ]
     },
     "execution_count": 6,
     "metadata": {},
     "output_type": "execute_result"
    }
   ],
   "source": [
    "# format table of divided differences for display:\n",
    "print('Divided difference for 1st, 2nd and 3rd derivative:')\n",
    "delta1 = np.array(['-0.62565', '', '0.73766', '', '0.49191', '', '-1.26422', '', '0.44126',\n",
    "                  '', '0.22322', '', '-0.38177'])\n",
    "delta2 = np.array(['', '0.03555', '', '-0.00342', '', '-0.02201', '', '0.00831', '', '-0.0008',\n",
    "                  '', '-0.00397', ''])\n",
    "delta3 = np.array(['', '', '-7.1e-04', '', '-2.5e-04', '', '2.1e-04', '', '-4.0e-05', '', \n",
    "                   '-1.0e-05', '', ''])\n",
    "table = pd.DataFrame(np.array([delta1, delta2, delta3]).T, columns=['delta 1', 'delta 2', 'delta 3'],\n",
    "               index=[''] * 13)\n",
    "table"
   ]
  },
  {
   "cell_type": "markdown",
   "metadata": {},
   "source": [
    "The divided differences table above shows that the values are close to zeros starting with the 2nd iteration (~10^-2). With the third iteration they differ from zero by a magnitude of around 10^-4. These results suggest that a second order polynomial might very likely approximate the data well without overfitting. To test this hypothesis, we plot both, the approximation with the second and the third order polynomial below."
   ]
  },
  {
   "cell_type": "code",
   "execution_count": 7,
   "metadata": {},
   "outputs": [
    {
     "data": {
      "image/png": "[encoded data removed]",
      "text/plain": [
       "<Figure size 864x288 with 2 Axes>"
      ]
     },
     "metadata": {
      "needs_background": "light"
     },
     "output_type": "display_data"
    }
   ],
   "source": [
    "coeffs_2nd = np.polyfit(data.res, data.cond, 2)\n",
    "coeffs_3rd = np.polyfit(data.res, data.cond, 3)\n",
    "\n",
    "y_2nd_order, y_3rd_order = [], []\n",
    "for x in x_:\n",
    "    y_2nd_order.append(polynomial(x, coeffs_2nd))\n",
    "    y_3rd_order.append(polynomial(x, coeffs_3rd))\n",
    "\n",
    "plt.figure(figsize=(12, 4))\n",
    "plt.subplot(1, 2, 1)\n",
    "plt.plot(x_, y_2nd_order, color='orange')\n",
    "plt.scatter(data.res, data.cond)\n",
    "plt.legend(['polynomial', 'measured points'])\n",
    "plt.title('2nd order polynomial')\n",
    "plt.xlabel('resistivity')\n",
    "plt.ylabel('conductivity')\n",
    "plt.subplot(1, 2, 2)\n",
    "plt.plot(x_, y_3rd_order, color='orange')\n",
    "plt.scatter(data.res, data.cond)\n",
    "plt.legend(['polynomial', 'measured points'])\n",
    "plt.title('3rd order polynomial')\n",
    "plt.xlabel('resistivity')\n",
    "plt.ylabel('conductivity')\n",
    "plt.show()"
   ]
  },
  {
   "cell_type": "markdown",
   "metadata": {},
   "source": [
    "#### CONCLUSIONS\n",
    "As seen in the first part of the assignment, a unique polynomial of order (n-1) that goes through each measured data point, clearly overfits the data. We therefore had to choose a polynomial of lower order. The order we determined with the method divided differences in which we divide the difference between each two subsequent data points on the y-axis (conductivity) by the difference on the x-axis (resistivity). We repeat this process until the divided differences approach 0 and choose the number iterations as the order of the polynomial to approximate the data. To find the coefficients of the polynomial we used least squares regression.\n",
    "\n",
    "The plots above show that the second order polynomial approximates the data pretty well. The third order polynomial on the right side better approximates especially the last three data points with a resistivity of >600, however, it seems to already overfit the data assuming the conductivity does not start to decrease again at a certain point (~800 ohm-m resistivity). In this case, to be sure whether the second or the third order polynomial ist the better one to use, some additional information would be necessary. This information could be domain knowledge (does conductivity decrease with increasing resistivity at a certain point?) or information on the measurement equipment used to obtain the data (what is the expected error?)."
   ]
  },
  {
   "cell_type": "markdown",
   "metadata": {},
   "source": [
    "#### REFERENCES\n",
    "[1] Vogelgesang, J. A., Holt, N., Schilling, K. E., Gannon, M., & Tassier-Surine, S. (2019). Using high-resolution electrical resistivity to estimate hydraulic conductivity and improve characterization of alluvial aquifers. Journal of Hydrology"
   ]
  }
 ],
 "metadata": {
  "kernelspec": {
   "display_name": "Python 3",
   "language": "python",
   "name": "python3"
  },
  "language_info": {
   "codemirror_mode": {
    "name": "ipython",
    "version": 3
   },
   "file_extension": ".py",
   "mimetype": "text/x-python",
   "name": "python",
   "nbconvert_exporter": "python",
   "pygments_lexer": "ipython3",
   "version": "3.7.4"
  }
 },
 "nbformat": 4,
 "nbformat_minor": 2
}
