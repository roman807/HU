{
 "cells": [
  {
   "cell_type": "code",
   "execution_count": 24,
   "metadata": {},
   "outputs": [],
   "source": [
    "import numpy as np\n",
    "import pandas as pd\n",
    "import matplotlib.pyplot as plt\n",
    "import random\n",
    "from enum import Enum"
   ]
  },
  {
   "cell_type": "code",
   "execution_count": 2,
   "metadata": {},
   "outputs": [],
   "source": [
    "class Order(Enum):\n",
    "    BUY = 1\n",
    "    SELL = 2\n",
    "    HOLD = 3\n",
    "\n",
    "class Trader():\n",
    "    def __init__(self, ind, cash, num_stocks):\n",
    "        self.ind = ind\n",
    "        self.cash = cash\n",
    "        self.num_stocks = num_stocks\n",
    "        self.order = None\n",
    "        self.price = None\n",
    "        self.num_stocks_trade = None\n",
    "    \n",
    "    def buy_sell_hold(self):\n",
    "        ind = np.random.rand()\n",
    "        if ind < 1/3:\n",
    "            self.order = Order(1)\n",
    "        elif ind < 2/3:\n",
    "            self.order = Order(2)\n",
    "        else:\n",
    "            self.order = Order(3)\n",
    "\n",
    "    def maintain_order(self, price, expected_percentage=5):\n",
    "        price_change = 0.01 * random.expovariate(1/expected_percentage) * price\n",
    "        if self.order == Order.BUY:\n",
    "            self.price = price * 1.05 - price_change\n",
    "        if self.order == Order.SELL:\n",
    "            self.price = price * 0.95 + price_change\n",
    "\n",
    "    def amount(self, price):\n",
    "        if self.order == Order.BUY:\n",
    "            self.num_stocks_trade = np.round(random.uniform(0, 0.9 * self.cash) / price)\n",
    "        if self.order == Order.SELL:\n",
    "            self.num_stocks_trade = random.randint(0, np.round(0.9 * self.num_stocks))"
   ]
  },
  {
   "cell_type": "code",
   "execution_count": 3,
   "metadata": {},
   "outputs": [],
   "source": [
    "# step 1: generate traders\n",
    "n_traders = 500\n",
    "initial_cash = 50_000.0\n",
    "initial_num_stocks = 1_000\n",
    "traders = []\n",
    "for i in range(n_traders):\n",
    "    traders.append(Trader(i + 1, initial_cash, initial_num_stocks))"
   ]
  },
  {
   "cell_type": "code",
   "execution_count": 4,
   "metadata": {},
   "outputs": [],
   "source": [
    "def one_step(traders, prev_price):\n",
    "    for trader in traders:\n",
    "        trader.buy_sell_hold()\n",
    "        trader.maintain_order(prev_price)\n",
    "        trader.amount(prev_price)"
   ]
  },
  {
   "cell_type": "code",
   "execution_count": 5,
   "metadata": {},
   "outputs": [],
   "source": [
    "initial_price = 50\n",
    "one_step(traders, prev_price=initial_price)"
   ]
  },
  {
   "cell_type": "code",
   "execution_count": 42,
   "metadata": {},
   "outputs": [],
   "source": [
    "# demand and supply curves\n",
    "a = []\n",
    "for trader in traders:\n",
    "    a.append([trader.order, trader.price, trader.num_stocks_trade])\n",
    "a = pd.DataFrame(a, columns=['order', 'price', 'amount'])\n",
    "a_buy = a[a['order'] == Order.BUY].sort_values(by='price', ascending=False).reset_index(drop=True)\n",
    "a_buy['cum_amount'] = a_buy['amount'].cumsum()\n",
    "a_sell = a[a['order'] == Order.SELL].sort_values(by='price', ascending=True).reset_index(drop=True)\n",
    "a_sell['cum_amount'] = a_sell['amount'].cumsum()"
   ]
  },
  {
   "cell_type": "code",
   "execution_count": 75,
   "metadata": {},
   "outputs": [
    {
     "data": {
      "image/png": "[encoded data removed]",
      "text/plain": [
       "<Figure size 432x288 with 1 Axes>"
      ]
     },
     "metadata": {
      "needs_background": "light"
     },
     "output_type": "display_data"
    }
   ],
   "source": [
    "plt.plot(a_buy.price, a_buy.cum_amount, color='blue')\n",
    "plt.plot(a_sell.price, a_sell.cum_amount, color='red')\n",
    "plt.xlim(48,52)\n",
    "plt.show()\n",
    "# a_buy.cum_amount"
   ]
  },
  {
   "cell_type": "code",
   "execution_count": 98,
   "metadata": {},
   "outputs": [
    {
     "data": {
      "text/plain": [
       "99"
      ]
     },
     "execution_count": 98,
     "metadata": {},
     "output_type": "execute_result"
    }
   ],
   "source": [
    "### find intersection of curves:\n",
    "# find indices closest to x\n",
    "def find_row(df, x):\n",
    "    ind1 = 0\n",
    "    ind2 = df.shape[0] - 1\n",
    "    if (df['price'][0] - df['price'][1]) > 0:\n",
    "        decreasing = True\n",
    "    else:\n",
    "        decreasing = False\n",
    "    while int((ind1 + ind2) / 2) != ind1:\n",
    "        guess = int((ind1 + ind2) / 2)\n",
    "        if df['price'][guess] < x:\n",
    "            if decreasing:\n",
    "                ind2 = guess\n",
    "            else:\n",
    "                ind1 = guess\n",
    "        else:\n",
    "            if decreasing:\n",
    "                ind1 = guess\n",
    "            else:\n",
    "                ind2 = guess\n",
    "    if np.abs(x - df['price'][ind1]) < np.abs(x - df['price'][ind2]):\n",
    "        return ind1\n",
    "    else:\n",
    "        return ind2"
   ]
  },
  {
   "cell_type": "code",
   "execution_count": 115,
   "metadata": {},
   "outputs": [],
   "source": [
    "def find_intersection(df_sell, df_buy):\n",
    "    price_min = df_sell['price'][0]\n",
    "    price_max = df_buy['price'][0]\n",
    "    guess = (price_min + price_max) / 2\n",
    "    diff = 500_000.0\n",
    "    while True:\n",
    "        diff = np.abs(df_sell['cum_amount'][find_row(df_sell, guess)] - \\\n",
    "                  df_buy['cum_amount'][find_row(df_buy, guess)])\n",
    "        if df_sell['cum_amount'][find_row(df_sell, guess)] < df_buy['cum_amount'][find_row(df_buy, guess)]:\n",
    "            price_min = guess\n",
    "        else:\n",
    "            price_max = guess\n",
    "        if guess == (price_min + price_max) / 2:\n",
    "            break\n",
    "        guess = (price_min + price_max) / 2\n",
    "    return guess"
   ]
  },
  {
   "cell_type": "code",
   "execution_count": 116,
   "metadata": {},
   "outputs": [
    {
     "data": {
      "text/plain": [
       "49.63841274354904"
      ]
     },
     "execution_count": 116,
     "metadata": {},
     "output_type": "execute_result"
    }
   ],
   "source": [
    "find_intersection(a_sell, a_buy)"
   ]
  }
 ],
 "metadata": {
  "kernelspec": {
   "display_name": "Python 3",
   "language": "python",
   "name": "python3"
  },
  "language_info": {
   "codemirror_mode": {
    "name": "ipython",
    "version": 3
   },
   "file_extension": ".py",
   "mimetype": "text/x-python",
   "name": "python",
   "nbconvert_exporter": "python",
   "pygments_lexer": "ipython3",
   "version": "3.7.4"
  }
 },
 "nbformat": 4,
 "nbformat_minor": 2
}
