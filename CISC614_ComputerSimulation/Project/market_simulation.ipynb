{
 "cells": [
  {
   "cell_type": "markdown",
   "metadata": {},
   "source": [
    "### Stockmarket simulation"
   ]
  },
  {
   "cell_type": "code",
   "execution_count": 1,
   "metadata": {},
   "outputs": [],
   "source": [
    "import numpy as np\n",
    "import pandas as pd\n",
    "import matplotlib.pyplot as plt\n",
    "import random\n",
    "import string\n",
    "import sys\n",
    "import time\n",
    "import scipy.stats as stats\n",
    "from enum import Enum\n",
    "from itertools import combinations"
   ]
  },
  {
   "cell_type": "code",
   "execution_count": 2,
   "metadata": {},
   "outputs": [],
   "source": [
    "class Order(Enum):\n",
    "    BUY = 1\n",
    "    SELL = 2\n",
    "    HOLD = 3\n",
    "\n",
    "class Trader():\n",
    "    def __init__(self, ind, cash, num_stocks, tendency):\n",
    "        self.ind = ind\n",
    "        self.cash = cash\n",
    "        self.num_stocks = num_stocks\n",
    "        self.tendency = tendency\n",
    "        self.cluster = None\n",
    "        self.order = None\n",
    "        self.price = None\n",
    "        self.num_stocks_trade = None\n",
    "        self.cluster_action = False\n",
    "        self.create_rnd_cluster()\n",
    "    \n",
    "    def create_rnd_cluster(self, l_=5):\n",
    "        pool = string.ascii_letters + string.digits\n",
    "        self.cluster = ''.join(random.choice(pool) for i in range(l_))\n",
    "    \n",
    "    def buy_sell_hold(self):\n",
    "        ind = np.random.rand()\n",
    "        if self.cluster_action:\n",
    "            return\n",
    "        else:\n",
    "            if ind < 1/3:\n",
    "                self.order = Order(1)\n",
    "            elif ind < 2/3:\n",
    "                self.order = Order(2)\n",
    "            else:\n",
    "                self.order = Order(3)\n",
    "\n",
    "    def maintain_order(self, price, expected_percentage=5):\n",
    "        price_change = 0.01 * random.expovariate(1/expected_percentage) * price\n",
    "        if self.order == Order.BUY:\n",
    "            self.price = price * 1.05 - price_change\n",
    "        if self.order == Order.SELL:\n",
    "            self.price = price * 0.95 + price_change\n",
    "\n",
    "    def amount(self, price):\n",
    "        if self.cluster_action: ###\n",
    "            return ###\n",
    "        else: ###\n",
    "            if self.order == Order.BUY:\n",
    "                self.num_stocks_trade = np.round(random.uniform(0, 0.9 * self.cash) / price)\n",
    "            if self.order == Order.SELL:\n",
    "                self.num_stocks_trade = random.randint(0, np.round(0.9 * self.num_stocks))\n",
    "    \n",
    "    def fill_orders(self, clearing_price):\n",
    "        if self.order == Order.SELL:\n",
    "            if self.price <= clearing_price:\n",
    "                self.cash += clearing_price * self.num_stocks_trade\n",
    "                self.num_stocks -= self.num_stocks_trade\n",
    "        if self.order == Order.BUY:\n",
    "            if self.price >= clearing_price:\n",
    "                self.cash -= clearing_price * self.num_stocks_trade\n",
    "                self.num_stocks += self.num_stocks_trade"
   ]
  },
  {
   "cell_type": "code",
   "execution_count": 3,
   "metadata": {},
   "outputs": [],
   "source": [
    "def one_step(traders, prev_price):\n",
    "    for trader in traders:\n",
    "        trader.buy_sell_hold()\n",
    "        trader.maintain_order(prev_price)\n",
    "        trader.amount(prev_price)"
   ]
  },
  {
   "cell_type": "code",
   "execution_count": 4,
   "metadata": {},
   "outputs": [],
   "source": [
    "# demand and supply curves\n",
    "def get_buy_sell_dfs(traders):\n",
    "    \"\"\"\n",
    "    create separate data frames with traders willing to buy and to sell.\n",
    "    Use result to find intersection of demand and supply curve\n",
    "    \"\"\"\n",
    "    l_ = []\n",
    "    for trader in traders:\n",
    "        l_.append([trader.order, trader.price, trader.num_stocks_trade])\n",
    "    df = pd.DataFrame(l_, columns=['order', 'price', 'amount'])\n",
    "    df_buy = df[df['order'] == Order.BUY].sort_values(by='price', ascending=False) \\\n",
    "        .reset_index(drop=True)\n",
    "    df_buy['cum_amount'] = df_buy['amount'].cumsum()\n",
    "    df_sell = df[df['order'] == Order.SELL].sort_values(by='price', ascending=True) \\\n",
    "        .reset_index(drop=True)\n",
    "    df_sell['cum_amount'] = df_sell['amount'].cumsum()\n",
    "    return df_buy, df_sell"
   ]
  },
  {
   "cell_type": "code",
   "execution_count": 7,
   "metadata": {},
   "outputs": [],
   "source": [
    "### find intersection of curves:\n",
    "# find indices closest to x\n",
    "def find_row(df, x):\n",
    "    \"\"\"\n",
    "    find row in data frame (df) corresponding to certain price (x)\n",
    "    \"\"\"\n",
    "    ind1 = 0\n",
    "    ind2 = df.shape[0] - 1\n",
    "    if (df['price'][0] - df['price'][1]) > 0:\n",
    "        decreasing = True\n",
    "    else:\n",
    "        decreasing = False\n",
    "    while int((ind1 + ind2) / 2) != ind1:\n",
    "        guess = int((ind1 + ind2) / 2)\n",
    "        if df['price'][guess] < x:\n",
    "            if decreasing:\n",
    "                ind2 = guess\n",
    "            else:\n",
    "                ind1 = guess\n",
    "        else:\n",
    "            if decreasing:\n",
    "                ind1 = guess\n",
    "            else:\n",
    "                ind2 = guess\n",
    "    if np.abs(x - df['price'][ind1]) < np.abs(x - df['price'][ind2]):\n",
    "        return ind1\n",
    "    else:\n",
    "        return ind2"
   ]
  },
  {
   "cell_type": "code",
   "execution_count": 8,
   "metadata": {},
   "outputs": [],
   "source": [
    "def find_intersection(df_sell, df_buy):\n",
    "    \"\"\"\n",
    "    find intersection of demand and supply curve\n",
    "    \"\"\"\n",
    "    price_min = df_sell['price'][0]\n",
    "    price_max = df_buy['price'][0]\n",
    "    guess = (price_min + price_max) / 2\n",
    "    while True:\n",
    "        if df_sell['cum_amount'][find_row(df_sell, guess)] < df_buy['cum_amount'][find_row(df_buy, guess)]:\n",
    "            price_min = guess\n",
    "        else:\n",
    "            price_max = guess\n",
    "        if guess == (price_min + price_max) / 2:\n",
    "            break\n",
    "        guess = (price_min + price_max) / 2\n",
    "    return guess"
   ]
  },
  {
   "cell_type": "code",
   "execution_count": 5,
   "metadata": {},
   "outputs": [],
   "source": [
    "###\n",
    "def get_tendency_dfs(traders):\n",
    "    \"\"\"\n",
    "    create separate data frames for optimistic and pesimistic traders. \n",
    "    The resulting data frames will be used to form clusters among like-\n",
    "    minded traders.\n",
    "    \"\"\"\n",
    "    l_ = []\n",
    "    for trader in traders:\n",
    "        l_.append([trader.ind, trader.tendency, trader.cluster])\n",
    "    df = pd.DataFrame(l_, columns=['ind', 'tendency', 'cluster'])\n",
    "    df_opt = df[df['tendency'] == 'opt'].reset_index(drop=True)\n",
    "    df_pes = df[df['tendency'] == 'pes'].reset_index(drop=True)\n",
    "    return df_opt, df_pes"
   ]
  },
  {
   "cell_type": "code",
   "execution_count": 87,
   "metadata": {},
   "outputs": [],
   "source": [
    "###\n",
    "def create_connections(traders, df, p_a):\n",
    "    \"\"\"\n",
    "    select each possible connection between two traders with the same\n",
    "    tendency with probability p_a --> equalize the cluster identifier\n",
    "    in those cases.\n",
    "    \"\"\"\n",
    "    combinations_ = list(combinations(df.ind, 2))\n",
    "    n_connections = len(combinations_)###\n",
    "    n_connect = int(n_connections * p_a)\n",
    "    connections = random.sample(combinations_, n_connect)\n",
    "    for connection in connections:\n",
    "        cl1 = df[df['ind']==connection[0]]['cluster'].values[0]\n",
    "        cl2 = df[df['ind']==connection[1]]['cluster'].values[0]\n",
    "        for trader in traders:\n",
    "            if trader.cluster == cl2:\n",
    "                trader.cluster = cl1\n",
    "\n",
    "### PROBLEM: CLUSTER FORM QUICKLY -->  SOON NOT ENOUGH THAT ANY GET SELECTED --. DECREASE P_A\n",
    "def select_clusters(traders, price, df, p_c):\n",
    "    \"\"\"\n",
    "    select each cluster with probability p_c --> if selcected cluster 'opt':\n",
    "    buy, else sell. Then change tandency and assign new random cluster ID.\n",
    "    \"\"\"\n",
    "    unique_clusters = df.cluster.unique()\n",
    "#     print(len(unique_clusters)) ######\n",
    "    n_select = max(int(p_c * len(unique_clusters)), min(3, len(unique_clusters)))\n",
    "    selected_clusters = random.sample(list(unique_clusters), n_select)\n",
    "    cnt_cluster = 0\n",
    "    for cluster in selected_clusters:\n",
    "        for trader in traders:\n",
    "            if trader.cluster == cluster:\n",
    "                trader.create_rnd_cluster()\n",
    "                trader.cluster_action = True\n",
    "                if trader.tendency == 'opt':\n",
    "                    trader.order = Order(1)\n",
    "                    trader.num_stocks_trade = np.round(0.9 * trader.cash / price)\n",
    "                    trader.tendency = 'pes'\n",
    "                    cnt_cluster += 1\n",
    "                else:    \n",
    "                    trader.order = Order(2)\n",
    "                    trader.num_stocks_trade = np.round(0.9 * trader.num_stocks)\n",
    "                    trader.tendency = 'opt'\n",
    "                    cnt_cluster += 1\n",
    "    return cnt_cluster"
   ]
  },
  {
   "cell_type": "code",
   "execution_count": null,
   "metadata": {},
   "outputs": [],
   "source": [
    "# # Plot demand-supply curve (NOT IN USE)\n",
    "# plt.plot(a_buy.price, a_buy.cum_amount, color='blue')\n",
    "# plt.plot(a_sell.price, a_sell.cum_amount, color='red')\n",
    "# plt.xlim(48,52)\n",
    "# plt.show()"
   ]
  },
  {
   "cell_type": "code",
   "execution_count": 83,
   "metadata": {},
   "outputs": [],
   "source": [
    "def simulation(traders, initial_price=50, number_of_steps=20, \\\n",
    "               cluster_building=True, p_a=0.005, p_c=0.1):\n",
    "    start = time.time()\n",
    "    step = 0\n",
    "    clearing_prices = []\n",
    "    n_clusters_buy, n_clusters_sell = [], []\n",
    "    prev_price = initial_price\n",
    "    while step <= number_of_steps:\n",
    "        if step % int(number_of_steps / 20) == 0:\n",
    "            sys.stdout.write('\\r{}%'.format(100*step/number_of_steps))\n",
    "        if cluster_building:\n",
    "            df_opt, df_pes = get_tendency_dfs(traders)\n",
    "            create_connections(traders, df_opt, p_a)\n",
    "            create_connections(traders, df_pes, p_a)\n",
    "            n_clusters_buy.append(select_clusters(traders, prev_price, df_opt, p_c))\n",
    "            n_clusters_sell.append(select_clusters(traders, prev_price, df_pes, p_c))\n",
    "        one_step(traders, prev_price)\n",
    "        df_buy, df_sell = get_buy_sell_dfs(traders)\n",
    "        clearing_prices.append(find_intersection(df_sell, df_buy))\n",
    "        for trader in traders:\n",
    "            trader.cluster_action = False\n",
    "            trader.fill_orders(clearing_prices[-1])\n",
    "        prev_price = clearing_prices[-1]\n",
    "        step += 1\n",
    "    print('\\nsimulation with {} steps completed in {} seconds'. \\\n",
    "          format(number_of_steps, np.round(time.time() - start, 3)))\n",
    "    return clearing_prices, n_clusters_buy, n_clusters_sell"
   ]
  },
  {
   "cell_type": "code",
   "execution_count": 10,
   "metadata": {},
   "outputs": [],
   "source": [
    "def get_log_returns(prices):\n",
    "    log_returns = []\n",
    "    for i in range(1, len(prices)):\n",
    "        log_returns.append(np.log(prices[i] / prices[i - 1]))\n",
    "    return log_returns"
   ]
  },
  {
   "cell_type": "code",
   "execution_count": 84,
   "metadata": {},
   "outputs": [],
   "source": [
    "# step 1: generate traders\n",
    "n_traders = 500\n",
    "initial_cash = 50_000.0\n",
    "initial_num_stocks = 1_000\n",
    "traders = []\n",
    "for i in range(n_traders):\n",
    "    if i < n_traders / 2:\n",
    "        traders.append(Trader(i + 1, initial_cash, initial_num_stocks, tendency='opt'))\n",
    "    else:\n",
    "        traders.append(Trader(i + 1, initial_cash, initial_num_stocks, tendency='pes'))"
   ]
  },
  {
   "cell_type": "code",
   "execution_count": 88,
   "metadata": {
    "scrolled": false
   },
   "outputs": [
    {
     "name": "stdout",
     "output_type": "stream",
     "text": [
      "100.0%\n",
      "simulation with 1000 steps completed in 22.506 seconds\n"
     ]
    }
   ],
   "source": [
    "# step 2: run simulation\n",
    "clearing_prices, cluster_buy, cluster_sell = simulation(\n",
    "    traders, \n",
    "    number_of_steps=1000, \n",
    "    cluster_building=False, \n",
    "    p_a=0.005, \n",
    "    p_c=0.1\n",
    ")\n",
    "log_returns = get_log_returns(clearing_prices)\n"
   ]
  },
  {
   "cell_type": "code",
   "execution_count": 89,
   "metadata": {},
   "outputs": [
    {
     "data": {
      "image/png": "[encoded data removed]",
      "text/plain": [
       "<Figure size 864x288 with 2 Axes>"
      ]
     },
     "metadata": {
      "needs_background": "light"
     },
     "output_type": "display_data"
    }
   ],
   "source": [
    "plt.figure(figsize=(12, 4))\n",
    "plt.subplot(1,2,1)\n",
    "plt.plot(clearing_prices)\n",
    "plt.plot(cluster_buy, color='green')\n",
    "plt.plot(cluster_sell, color='red')\n",
    "plt.title('stock price over time')\n",
    "plt.subplot(1,2,2)\n",
    "plt.hist(log_returns, bins=45)\n",
    "mu, sigma = np.mean(log_returns), np.std(log_returns)\n",
    "x = np.linspace(mu - 3 * sigma, mu + 3 * sigma, 100)\n",
    "plt.plot(x, stats.norm.pdf(x, mu, sigma), color='orange')\n",
    "plt.legend(['normal','actual'])\n",
    "plt.title('daily returns')\n",
    "plt.show()"
   ]
  }
 ],
 "metadata": {
  "kernelspec": {
   "display_name": "Python 3",
   "language": "python",
   "name": "python3"
  },
  "language_info": {
   "codemirror_mode": {
    "name": "ipython",
    "version": 3
   },
   "file_extension": ".py",
   "mimetype": "text/x-python",
   "name": "python",
   "nbconvert_exporter": "python",
   "pygments_lexer": "ipython3",
   "version": "3.7.4"
  }
 },
 "nbformat": 4,
 "nbformat_minor": 2
}
